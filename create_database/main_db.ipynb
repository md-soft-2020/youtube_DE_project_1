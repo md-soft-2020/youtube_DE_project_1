{
 "cells": [
  {
   "attachments": {},
   "cell_type": "markdown",
   "metadata": {},
   "source": [
    "# Exploration & Cleaning of the raw data\n",
    "\n",
    "Global Food Price Inflation"
   ]
  },
  {
   "cell_type": "code",
   "execution_count": 1,
   "metadata": {},
   "outputs": [],
   "source": [
    "import psycopg2\n",
    "import pandas as pd\n",
    "\n",
    "df_country = pd.read_csv(\"WLD_RTFP_country_2023-10-02.csv\")\n",
    "df_details = pd.read_csv(\"WLD_RTP_details_2023-10-02.csv\")"
   ]
  },
  {
   "cell_type": "code",
   "execution_count": 2,
   "metadata": {},
   "outputs": [
    {
     "name": "stdout",
     "output_type": "stream",
     "text": [
      "<class 'pandas.core.frame.DataFrame'>\n",
      "RangeIndex: 4798 entries, 0 to 4797\n",
      "Data columns (total 8 columns):\n",
      " #   Column     Non-Null Count  Dtype  \n",
      "---  ------     --------------  -----  \n",
      " 0   Open       4734 non-null   float64\n",
      " 1   High       4734 non-null   float64\n",
      " 2   Low        4734 non-null   float64\n",
      " 3   Close      4734 non-null   float64\n",
      " 4   Inflation  4434 non-null   float64\n",
      " 5   country    4798 non-null   object \n",
      " 6   ISO3       4798 non-null   object \n",
      " 7   date       4798 non-null   object \n",
      "dtypes: float64(5), object(3)\n",
      "memory usage: 300.0+ KB\n"
     ]
    }
   ],
   "source": [
    "df_country.info()"
   ]
  },
  {
   "cell_type": "code",
   "execution_count": 3,
   "metadata": {},
   "outputs": [
    {
     "data": {
      "text/html": [
       "<div>\n",
       "<style scoped>\n",
       "    .dataframe tbody tr th:only-of-type {\n",
       "        vertical-align: middle;\n",
       "    }\n",
       "\n",
       "    .dataframe tbody tr th {\n",
       "        vertical-align: top;\n",
       "    }\n",
       "\n",
       "    .dataframe thead th {\n",
       "        text-align: right;\n",
       "    }\n",
       "</style>\n",
       "<table border=\"1\" class=\"dataframe\">\n",
       "  <thead>\n",
       "    <tr style=\"text-align: right;\">\n",
       "      <th></th>\n",
       "      <th>Open</th>\n",
       "      <th>High</th>\n",
       "      <th>Low</th>\n",
       "      <th>Close</th>\n",
       "      <th>Inflation</th>\n",
       "      <th>country</th>\n",
       "      <th>ISO3</th>\n",
       "      <th>date</th>\n",
       "      <th>records</th>\n",
       "    </tr>\n",
       "  </thead>\n",
       "  <tbody>\n",
       "    <tr>\n",
       "      <th>0</th>\n",
       "      <td>0.53</td>\n",
       "      <td>0.54</td>\n",
       "      <td>0.53</td>\n",
       "      <td>0.53</td>\n",
       "      <td>NaN</td>\n",
       "      <td>Afghanistan</td>\n",
       "      <td>AFG</td>\n",
       "      <td>2007-01-01</td>\n",
       "      <td>r0</td>\n",
       "    </tr>\n",
       "    <tr>\n",
       "      <th>1</th>\n",
       "      <td>0.53</td>\n",
       "      <td>0.54</td>\n",
       "      <td>0.53</td>\n",
       "      <td>0.53</td>\n",
       "      <td>NaN</td>\n",
       "      <td>Afghanistan</td>\n",
       "      <td>AFG</td>\n",
       "      <td>2007-02-01</td>\n",
       "      <td>r1</td>\n",
       "    </tr>\n",
       "    <tr>\n",
       "      <th>2</th>\n",
       "      <td>0.54</td>\n",
       "      <td>0.54</td>\n",
       "      <td>0.53</td>\n",
       "      <td>0.53</td>\n",
       "      <td>NaN</td>\n",
       "      <td>Afghanistan</td>\n",
       "      <td>AFG</td>\n",
       "      <td>2007-03-01</td>\n",
       "      <td>r2</td>\n",
       "    </tr>\n",
       "  </tbody>\n",
       "</table>\n",
       "</div>"
      ],
      "text/plain": [
       "   Open  High   Low  Close  Inflation      country ISO3        date records\n",
       "0  0.53  0.54  0.53   0.53        NaN  Afghanistan  AFG  2007-01-01      r0\n",
       "1  0.53  0.54  0.53   0.53        NaN  Afghanistan  AFG  2007-02-01      r1\n",
       "2  0.54  0.54  0.53   0.53        NaN  Afghanistan  AFG  2007-03-01      r2"
      ]
     },
     "execution_count": 3,
     "metadata": {},
     "output_type": "execute_result"
    }
   ],
   "source": [
    "n = 0\n",
    "l = []\n",
    "for i in range(len(df_country)):\n",
    "    n =+ i\n",
    "    l.append(\"r\" + str(n))\n",
    "\n",
    "df_country[\"records\"] = l\n",
    "df_country.head(3)"
   ]
  },
  {
   "cell_type": "code",
   "execution_count": 4,
   "metadata": {},
   "outputs": [
    {
     "data": {
      "text/plain": [
       "Index(['Open', 'High', 'Low', 'Close', 'Inflation', 'country', 'ISO3', 'date',\n",
       "       'records'],\n",
       "      dtype='object')"
      ]
     },
     "execution_count": 4,
     "metadata": {},
     "output_type": "execute_result"
    }
   ],
   "source": [
    "df_country.columns"
   ]
  },
  {
   "cell_type": "code",
   "execution_count": 5,
   "metadata": {},
   "outputs": [
    {
     "data": {
      "text/plain": [
       "Index(['country', 'iso3', 'components', 'currency', 'start_date_observations',\n",
       "       'end_date_observations', 'number_of_markets_modeled',\n",
       "       'number_of_markets_covered', 'number_of_food_items',\n",
       "       'number_of_observations_food', 'number_of_observations_other',\n",
       "       'data_coverage_food', 'data_coverage_previous_12_months_food',\n",
       "       'total_food_price_increase_since_start_date',\n",
       "       'average_annualized_food_inflation', 'maximum_food_drawdown',\n",
       "       'average_annualized_food_volatility',\n",
       "       'average_monthly_food_price_correlation_between_markets',\n",
       "       'average_annual_food_price_correlation_between_markets',\n",
       "       'Rsquared_individual_food_items', 'Rsquared_individual_other_items',\n",
       "       'index_confidence_score', 'imputation_model'],\n",
       "      dtype='object')"
      ]
     },
     "execution_count": 5,
     "metadata": {},
     "output_type": "execute_result"
    }
   ],
   "source": [
    "df_details.columns"
   ]
  },
  {
   "attachments": {},
   "cell_type": "markdown",
   "metadata": {},
   "source": [
    "# Creation & Connection to a new DB"
   ]
  },
  {
   "cell_type": "code",
   "execution_count": 6,
   "metadata": {},
   "outputs": [],
   "source": [
    "def create_database():\n",
    "\n",
    "    # Connect to the default DB\n",
    "    conn = psycopg2.connect(\n",
    "        database = 'postgres',\n",
    "        user = 'postgres',\n",
    "        password = '@SSitanecl94',\n",
    "        host = '127.0.0.1', # '127.0.0.1' is the IP address of the localhost. I could've written also 'localhost'.\n",
    "        port = 5432\n",
    "    )\n",
    "    conn.set_session(autocommit= True) # this will automatically enables changes to your DB after each execution of a query.\n",
    "    \n",
    "    #Create a connection between the Connector and the cursor \n",
    "    cur = conn.cursor()\n",
    "\n",
    "    #Create sparkify database with UTF8 encoding\n",
    "    cur.execute(\"DROP DATABASE IF EXISTS accounts\")\n",
    "    cur.execute(\"CREATE DATABASE accounts\")\n",
    "\n",
    "    # Close connection to the default database\n",
    "    conn.close()\n",
    "\n",
    "\n",
    "    # Connect to sparkify database\n",
    "    conn = psycopg2.connect(\n",
    "        database = 'accounts',\n",
    "        user = 'postgres',\n",
    "        password = '@SSitanecl94',\n",
    "        host = '127.0.0.1', \n",
    "        port = 5432\n",
    "    )\n",
    "    cur = conn.cursor()\n",
    "\n",
    "    return cur, conn"
   ]
  },
  {
   "attachments": {},
   "cell_type": "markdown",
   "metadata": {},
   "source": [
    "# Data Modelling & Create Tables"
   ]
  },
  {
   "cell_type": "code",
   "execution_count": 7,
   "metadata": {},
   "outputs": [],
   "source": [
    "# CREATE TABLES\n",
    "\n",
    "create_details = \"\"\"\n",
    "    CREATE TABLE inflation_details \n",
    "    (\n",
    "        country VARCHAR(50) PRIMARY KEY, \n",
    "        iso3 VARCHAR(6),\n",
    "        components TEXT,\n",
    "        currency VARCHAR(6),\n",
    "        start_date_observations VARCHAR(20),\n",
    "        end_date_observations VARCHAR(20),\n",
    "        number_of_markets_modeled INT,\n",
    "        number_of_markets_covered INT,\n",
    "        number_of_food_items INT,\n",
    "        number_of_observations_food TEXT,\n",
    "        number_of_observations_other TEXT,\n",
    "        data_coverage_food VARCHAR(200),\n",
    "        data_coverage_previous_12_months_food VARCHAR(200),                    \n",
    "        total_food_price_increase_since_start_date VARCHAR(200),\n",
    "        average_annualized_food_inflation VARCHAR(200),\n",
    "        maximum_food_drawdown VARCHAR(200),\n",
    "        average_annualized_food_volatility VARCHAR(200),\n",
    "        average_monthly_food_price_correlation_between_markets VARCHAR(200),\n",
    "        average_annual_food_price_correlation_between_markets VARCHAR(200),\n",
    "        Rsquared_individual_food_items TEXT,\n",
    "        Rsquared_individual_other_items TEXT,\n",
    "        index_confidence_score NUMERIC,\n",
    "        imputation_model TEXT\n",
    "    );\n",
    "\"\"\"\n",
    "\n",
    "create_country = \"\"\"\n",
    "    CREATE TABLE inflation_country \n",
    "    (\n",
    "        Open NUMERIC, \n",
    "        High NUMERIC, \n",
    "        Low NUMERIC, \n",
    "        Close NUMERIC, \n",
    "        Inflation  NUMERIC, \n",
    "        country VARCHAR (50), \n",
    "        ISO3 VARCHAR(10), \n",
    "        date VARCHAR(50),\n",
    "        records VARCHAR(5) PRIMARY KEY,\n",
    "        FOREIGN KEY (country) REFERENCES inflation_details(country)\n",
    "    );\n",
    "\"\"\"\n",
    "\n",
    "create_tables_queries = [create_details, create_country]"
   ]
  },
  {
   "cell_type": "code",
   "execution_count": 8,
   "metadata": {},
   "outputs": [],
   "source": [
    "# Create the database\n",
    "cur, conn =  create_database()"
   ]
  },
  {
   "cell_type": "code",
   "execution_count": 9,
   "metadata": {},
   "outputs": [],
   "source": [
    "# def drop_tables(cur, conn):\n",
    "#     for query in drop_tables_queries:\n",
    "#         cur.execute(query)\n",
    "#         conn.commit()\n",
    "\n",
    "def create_tables(cur, conn):\n",
    "    for query in create_tables_queries:\n",
    "        cur.execute(query)\n",
    "        conn.commit()\n",
    "\n",
    "\n",
    "# drop_tables(cur, conn)\n",
    "create_tables(cur, conn)"
   ]
  },
  {
   "attachments": {},
   "cell_type": "markdown",
   "metadata": {},
   "source": [
    "# Insert data into tables"
   ]
  },
  {
   "cell_type": "code",
   "execution_count": 10,
   "metadata": {},
   "outputs": [],
   "source": [
    "insert_inflation_details = \"\"\"\n",
    "    INSERT INTO inflation_details ( \n",
    "        country, iso3, components, currency, start_date_observations, end_date_observations, number_of_markets_modeled,\n",
    "        number_of_markets_covered, number_of_food_items, number_of_observations_food, number_of_observations_other,\n",
    "        data_coverage_food, data_coverage_previous_12_months_food, total_food_price_increase_since_start_date,\n",
    "        average_annualized_food_inflation, maximum_food_drawdown, average_annualized_food_volatility,\n",
    "        average_monthly_food_price_correlation_between_markets, average_annual_food_price_correlation_between_markets,\n",
    "        Rsquared_individual_food_items, Rsquared_individual_other_items, index_confidence_score, imputation_model\n",
    "        )\n",
    "    VALUES (%s, %s, %s, %s, %s, %s, %s, %s, %s, %s, %s, %s, %s, %s, %s, %s, %s, %s, %s, %s, %s, %s, %s)\n",
    "    ;\n",
    "\"\"\"\n",
    "\n",
    "insert_inflation_country = \"\"\"\n",
    "    INSERT INTO inflation_country (Open, High, Low, Close, Inflation, country, ISO3, date, records)\n",
    "    VALUES (%s, %s, %s, %s, %s, %s, %s, %s, %s)\n",
    "    ;\n",
    "\"\"\"\n",
    "\n",
    "# %s: this (wildcard) is used to filled in data in their positions."
   ]
  },
  {
   "cell_type": "code",
   "execution_count": 11,
   "metadata": {},
   "outputs": [],
   "source": [
    "# Insert data into table : inflation_details\n",
    "for index, row in df_details.iterrows():\n",
    "    cur.execute(insert_inflation_details, list(row))\n",
    "    conn.commit()\n",
    "\n",
    "# Insert data into table : inflation_country\n",
    "for index, row in df_country.iterrows():\n",
    "    cur.execute(insert_inflation_country, list(row))\n",
    "    conn.commit()"
   ]
  },
  {
   "attachments": {},
   "cell_type": "markdown",
   "metadata": {},
   "source": [
    "# Close Cursor & Connection"
   ]
  },
  {
   "cell_type": "code",
   "execution_count": null,
   "metadata": {},
   "outputs": [],
   "source": [
    "cur.close()\n",
    "conn.close()"
   ]
  }
 ],
 "metadata": {
  "kernelspec": {
   "display_name": "Python 3",
   "language": "python",
   "name": "python3"
  },
  "language_info": {
   "codemirror_mode": {
    "name": "ipython",
    "version": 3
   },
   "file_extension": ".py",
   "mimetype": "text/x-python",
   "name": "python",
   "nbconvert_exporter": "python",
   "pygments_lexer": "ipython3",
   "version": "3.11.1 (v3.11.1:a7a450f84a, Dec  6 2022, 15:24:06) [Clang 13.0.0 (clang-1300.0.29.30)]"
  },
  "orig_nbformat": 4,
  "vscode": {
   "interpreter": {
    "hash": "1a1af0ee75eeea9e2e1ee996c87e7a2b11a0bebd85af04bb136d915cefc0abce"
   }
  }
 },
 "nbformat": 4,
 "nbformat_minor": 2
}
